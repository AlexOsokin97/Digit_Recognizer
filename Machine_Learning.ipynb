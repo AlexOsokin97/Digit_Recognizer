{
 "cells": [
  {
   "cell_type": "code",
   "execution_count": 1,
   "metadata": {},
   "outputs": [],
   "source": [
    "import pandas as pd\n",
    "import numpy as np\n",
    "import matplotlib.pyplot as plt\n",
    "from sklearn.model_selection import cross_val_score, GridSearchCV\n",
    "from sklearn.metrics import confusion_matrix, accuracy_score, f1_score"
   ]
  },
  {
   "cell_type": "code",
   "execution_count": 2,
   "metadata": {},
   "outputs": [],
   "source": [
    "X_train = pd.read_csv('./Engineered_csv/Engineered_X_train.csv')\n",
    "X_test = pd.read_csv('./Engineered_csv/Engineered_X_test.csv')\n",
    "y_train = pd.read_csv('./Engineered_csv/X_train_label.csv')\n",
    "y_test = pd.read_csv('./Engineered_csv/X_test_label.csv')"
   ]
  },
  {
   "cell_type": "code",
   "execution_count": 3,
   "metadata": {},
   "outputs": [
    {
     "name": "stdout",
     "output_type": "stream",
     "text": [
      "(37800, 9)\n",
      "(4200, 9)\n",
      "(37800, 1)\n",
      "(4200, 1)\n"
     ]
    }
   ],
   "source": [
    "sets = [X_train, X_test, y_train, y_test]\n",
    "\n",
    "for x in range(len(sets)):\n",
    "    print(sets[x].shape)"
   ]
  },
  {
   "cell_type": "code",
   "execution_count": 4,
   "metadata": {},
   "outputs": [],
   "source": [
    "from sklearn.linear_model import LogisticRegression\n",
    "from sklearn.neighbors import KNeighborsClassifier\n",
    "from sklearn.ensemble import AdaBoostClassifier, RandomForestClassifier\n",
    "from xgboost import XGBClassifier"
   ]
  },
  {
   "cell_type": "markdown",
   "metadata": {},
   "source": [
    "### Functions for machine learning algorithm's useage"
   ]
  },
  {
   "cell_type": "code",
   "execution_count": 6,
   "metadata": {},
   "outputs": [],
   "source": [
    "def not_accidental(model, training_features, training_labels,metric, kfolds):\n",
    "    '''\n",
    "    A function that applies cross_val_score on given machine learning algorithm, data and number of data splits\n",
    "    \n",
    "    input:\n",
    "            model (sklearn machine learning algorithm api): LogisticRegression, XGBoost, etc..\n",
    "            training_features (DataFrame): (X_train)\n",
    "            training_labels (DataFrame): (y_train)\n",
    "            metric (String, sklearn scoring metrics api): \n",
    "            kfolds (int): number of splits to perform on the datasets\n",
    "    \n",
    "    output:\n",
    "            scores (list): a list with scoring values for each K split\n",
    "            average_score (float): the mean of scores\n",
    "    '''\n",
    "    scores = cross_val_score(estimator=model, X=training_features.values, y=training_labels.values, scoring=metric, cv=kfolds)\n",
    "    average_score = np.mean(scores)\n",
    "    return scores, average_score"
   ]
  },
  {
   "cell_type": "markdown",
   "metadata": {},
   "source": [
    "### Logistic Regression"
   ]
  },
  {
   "cell_type": "code",
   "execution_count": 5,
   "metadata": {},
   "outputs": [],
   "source": [
    "lr = LogisticRegression(max_iter=1000, random_state=1)"
   ]
  },
  {
   "cell_type": "code",
   "execution_count": null,
   "metadata": {},
   "outputs": [],
   "source": []
  }
 ],
 "metadata": {
  "kernelspec": {
   "display_name": "Python 3",
   "language": "python",
   "name": "python3"
  },
  "language_info": {
   "codemirror_mode": {
    "name": "ipython",
    "version": 3
   },
   "file_extension": ".py",
   "mimetype": "text/x-python",
   "name": "python",
   "nbconvert_exporter": "python",
   "pygments_lexer": "ipython3",
   "version": "3.7.6"
  }
 },
 "nbformat": 4,
 "nbformat_minor": 4
}
