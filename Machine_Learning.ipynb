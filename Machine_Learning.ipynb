{
 "cells": [
  {
   "cell_type": "code",
   "execution_count": 31,
   "metadata": {},
   "outputs": [],
   "source": [
    "import pandas as pd\n",
    "import numpy as np\n",
    "import matplotlib.pyplot as plt\n",
    "import pickle\n",
    "from sklearn.model_selection import train_test_split, cross_val_score, GridSearchCV\n",
    "from sklearn.metrics import confusion_matrix, accuracy_score, f1_score\n",
    "from sklearn.svm import SVC\n",
    "from sklearn.neighbors import KNeighborsClassifier\n",
    "from sklearn.ensemble import RandomForestClassifier\n",
    "from xgboost import XGBClassifier"
   ]
  },
  {
   "cell_type": "markdown",
   "metadata": {},
   "source": [
    "### Functions for machine learning algorithm's useage"
   ]
  },
  {
   "cell_type": "code",
   "execution_count": 2,
   "metadata": {},
   "outputs": [],
   "source": [
    "def cross_validation(model, training_features, training_labels,metric, kfolds):\n",
    "    '''\n",
    "    A function that applies cross_validation on given machine learning algorithm, data and number of data splits\n",
    "    \n",
    "    input:\n",
    "            model (sklearn machine learning algorithm api): LogisticRegression, XGBoost, etc..\n",
    "            training_features (DataFrame): (X_train)\n",
    "            training_labels (DataFrame): (y_train)\n",
    "            metric (String, sklearn scoring metrics api): \n",
    "            kfolds (int): number of splits to perform on the datasets\n",
    "    \n",
    "    output:\n",
    "            scores (list): a list with scoring values for each K split\n",
    "            average_score (float): the mean of scores\n",
    "            \n",
    "    '''\n",
    "    scores = cross_val_score(estimator=model, X=training_features.values, y=training_labels.values.ravel(), scoring=metric, cv=kfolds, verbose=3, n_jobs=-1)\n",
    "    average_score = np.mean(scores)\n",
    "    return scores, average_score"
   ]
  },
  {
   "cell_type": "code",
   "execution_count": 3,
   "metadata": {},
   "outputs": [],
   "source": [
    "def hyper_tuning(model, training_features, training_labels,metric, hyper_params, cv):\n",
    "    '''\n",
    "    A function that applies GridSearch (hyper parameter tuning) for a given machine learning algorithm.\n",
    "    \n",
    "    *In order to get the best of this function it is recommended that you'll use it on algorithms with many hyper parameters*\n",
    "    \n",
    "    input:\n",
    "            model (sklearn machine learning algorithm api): LogisticRegression, XGBoost, etc..\n",
    "            training_features (DataFrame): (X_train)\n",
    "            training_labels (DataFrame): (y_train)\n",
    "            metric (String, sklearn scoring metrics api): \n",
    "            hyper_params (list): A list which contains a dictionary with it's keys as names of a model's hyper parameters and \n",
    "                                 values to test on\n",
    "            cv (int): cross validation splitting strategy (3-fold, 5-fold). *for faster performance choose 3 fold cv*\n",
    "    \n",
    "    output: \n",
    "            best_find (machine learning model): returns the given machine learning algorithm with the best hyper parameters\n",
    "            best_score (float): returns the best score achieved by the model with the best hyper parameters\n",
    "            \n",
    "    '''\n",
    "    \n",
    "    grid_search = GridSearchCV(model, param_grid=hyper_params, scoring=metric, cv=cv)\n",
    "    grid_search.fit(training_features.values, training_labels.values.ravel())\n",
    "    best_find = grid_search.best_estimator_\n",
    "    best_score = grid_search.best_score_\n",
    "    return best_find, best_score"
   ]
  },
  {
   "cell_type": "code",
   "execution_count": 4,
   "metadata": {},
   "outputs": [],
   "source": [
    "def model_performance(trained_model, testing_features, testing_labels, metrics = []):\n",
    "    '''\n",
    "    A functions that applies multiple scoring metrics given by the user on the testing set\n",
    "    \n",
    "    input:\n",
    "            trained_model (sklearn machine learning algorithm api): An already trained machine learning algorithm\n",
    "            testing_features (DataFrame): (X_test) \n",
    "            testing_label (DataFrame): (y_test)\n",
    "            metrics (list of sklearn metric api): a list which contains the desired scoring metrics\n",
    "    \n",
    "    output:\n",
    "            scores (dictionary): a dictionary which contains the scoring method as a key and the score as value\n",
    "            \n",
    "    '''\n",
    "    scores = {}\n",
    "    num_metrics = 1\n",
    "    predictions = trained_model.predict(testing_features.values)\n",
    "    for metric in metrics:\n",
    "        \n",
    "        if str(metric) == str(f1_score):\n",
    "            score = f1_score(testing_labels.values.ravel(), predictions, average='micro')\n",
    "            scores[num_metrics] = score\n",
    "            num_metrics += 1\n",
    "        else:\n",
    "            score = metric(testing_labels.values.ravel(), predictions)\n",
    "            scores[num_metrics] = score\n",
    "            num_metrics += 1\n",
    "        \n",
    "    return scores"
   ]
  },
  {
   "cell_type": "markdown",
   "metadata": {},
   "source": [
    "### Importing the datasets"
   ]
  },
  {
   "cell_type": "code",
   "execution_count": 5,
   "metadata": {},
   "outputs": [],
   "source": [
    "T_X = pd.read_csv('New_train.csv')\n",
    "T_Y = pd.read_csv('New_train_label.csv')\n",
    "TEST = pd.read_csv('New_test.csv')"
   ]
  },
  {
   "cell_type": "markdown",
   "metadata": {},
   "source": [
    "#### Train Validate split"
   ]
  },
  {
   "cell_type": "code",
   "execution_count": 6,
   "metadata": {},
   "outputs": [],
   "source": [
    "X_train, X_val, y_train, y_val = train_test_split(T_X, T_Y, test_size=0.1, random_state=1)"
   ]
  },
  {
   "cell_type": "markdown",
   "metadata": {},
   "source": [
    "## Support Vector Machine (SVM)"
   ]
  },
  {
   "cell_type": "code",
   "execution_count": 8,
   "metadata": {},
   "outputs": [],
   "source": [
    "svm = SVC(C=3.5, kernel='linear', random_state=42)"
   ]
  },
  {
   "cell_type": "code",
   "execution_count": 9,
   "metadata": {},
   "outputs": [
    {
     "name": "stderr",
     "output_type": "stream",
     "text": [
      "[Parallel(n_jobs=-1)]: Using backend LokyBackend with 8 concurrent workers.\n",
      "[Parallel(n_jobs=-1)]: Done   3 out of  10 | elapsed:  2.1min remaining:  5.0min\n",
      "[Parallel(n_jobs=-1)]: Done   7 out of  10 | elapsed:  2.2min remaining:   57.5s\n",
      "[Parallel(n_jobs=-1)]: Done  10 out of  10 | elapsed:  3.4min finished\n"
     ]
    },
    {
     "data": {
      "text/plain": [
       "(array([0.93624339, 0.93518519, 0.92910053, 0.92883598, 0.92592593,\n",
       "        0.92910053, 0.92936508, 0.92460317, 0.92804233, 0.92433862]),\n",
       " 0.9290740740740742)"
      ]
     },
     "execution_count": 9,
     "metadata": {},
     "output_type": "execute_result"
    }
   ],
   "source": [
    "cross_validation(svm, X_train, y_train, 'accuracy', 10)"
   ]
  },
  {
   "cell_type": "code",
   "execution_count": 11,
   "metadata": {},
   "outputs": [],
   "source": [
    "svm_params = [\n",
    "    {\n",
    "        'C': [1.0, 2.5, 3.5, 9.0],\n",
    "        'kernel': ['linear', 'rbf'],\n",
    "        'tol':[0.5, 0.1, 0.01, 0.001]\n",
    "    }\n",
    "]"
   ]
  },
  {
   "cell_type": "code",
   "execution_count": 12,
   "metadata": {},
   "outputs": [
    {
     "name": "stdout",
     "output_type": "stream",
     "text": [
      "Best logistic regression model is: \n",
      " SVC(C=9.0, break_ties=False, cache_size=200, class_weight=None, coef0=0.0,\n",
      "    decision_function_shape='ovr', degree=3, gamma='scale', kernel='rbf',\n",
      "    max_iter=-1, probability=False, random_state=42, shrinking=True, tol=0.5,\n",
      "    verbose=False)\n",
      "Best Score: 0.9818253968253968%\n"
     ]
    }
   ],
   "source": [
    "best_svm, best_score = hyper_tuning(svm, X_train, y_train, 'accuracy', svm_params, 3)\n",
    "print('Best logistic regression model is: \\n', best_svm)\n",
    "print('Best Score: ' + str(best_score) + '%')"
   ]
  },
  {
   "cell_type": "code",
   "execution_count": 13,
   "metadata": {},
   "outputs": [],
   "source": [
    "validation_scores = model_performance(best_svm, X_val, y_val, [confusion_matrix, accuracy_score, f1_score])"
   ]
  },
  {
   "cell_type": "code",
   "execution_count": 16,
   "metadata": {},
   "outputs": [
    {
     "name": "stdout",
     "output_type": "stream",
     "text": [
      "CM:\n",
      " [[419   0   1   0   0   0   0   0   0   0]\n",
      " [  0 488   0   0   0   0   0   0   0   0]\n",
      " [  0   1 411   2   2   0   0   3   2   0]\n",
      " [  0   0   3 411   0   4   0   2   2   1]\n",
      " [  0   1   2   0 413   0   0   3   0   7]\n",
      " [  1   1   0   6   0 381   1   0   0   1]\n",
      " [  1   0   0   0   2   1 399   0   0   0]\n",
      " [  0   0   4   1   1   0   0 395   0   2]\n",
      " [  0   2   0   1   3   1   0   0 403   1]\n",
      " [  1   0   0   0   5   3   0   1   0 404]] \n",
      "Accuracy: 0.981904761904762\n",
      "F1_score: 0.981904761904762\n"
     ]
    }
   ],
   "source": [
    "print(\"CM:\\n\", validation_scores[1], \"\\nAccuracy: \" + str(validation_scores[2]) +\"\\nF1_score: \" + str(validation_scores[3]))"
   ]
  },
  {
   "cell_type": "markdown",
   "metadata": {},
   "source": [
    "### Creating CSV file for Kaggle submission"
   ]
  },
  {
   "cell_type": "code",
   "execution_count": 21,
   "metadata": {},
   "outputs": [],
   "source": [
    "preds = best_svm.predict(TEST.values)"
   ]
  },
  {
   "cell_type": "code",
   "execution_count": 28,
   "metadata": {},
   "outputs": [],
   "source": [
    "sub = pd.DataFrame(np.arange(1,28001,1)) "
   ]
  },
  {
   "cell_type": "code",
   "execution_count": 29,
   "metadata": {},
   "outputs": [
    {
     "data": {
      "text/html": [
       "<div>\n",
       "<style scoped>\n",
       "    .dataframe tbody tr th:only-of-type {\n",
       "        vertical-align: middle;\n",
       "    }\n",
       "\n",
       "    .dataframe tbody tr th {\n",
       "        vertical-align: top;\n",
       "    }\n",
       "\n",
       "    .dataframe thead th {\n",
       "        text-align: right;\n",
       "    }\n",
       "</style>\n",
       "<table border=\"1\" class=\"dataframe\">\n",
       "  <thead>\n",
       "    <tr style=\"text-align: right;\">\n",
       "      <th></th>\n",
       "      <th>ImageId</th>\n",
       "      <th>Label</th>\n",
       "    </tr>\n",
       "  </thead>\n",
       "  <tbody>\n",
       "    <tr>\n",
       "      <th>0</th>\n",
       "      <td>1</td>\n",
       "      <td>2</td>\n",
       "    </tr>\n",
       "    <tr>\n",
       "      <th>1</th>\n",
       "      <td>2</td>\n",
       "      <td>0</td>\n",
       "    </tr>\n",
       "    <tr>\n",
       "      <th>2</th>\n",
       "      <td>3</td>\n",
       "      <td>9</td>\n",
       "    </tr>\n",
       "    <tr>\n",
       "      <th>3</th>\n",
       "      <td>4</td>\n",
       "      <td>9</td>\n",
       "    </tr>\n",
       "    <tr>\n",
       "      <th>4</th>\n",
       "      <td>5</td>\n",
       "      <td>3</td>\n",
       "    </tr>\n",
       "  </tbody>\n",
       "</table>\n",
       "</div>"
      ],
      "text/plain": [
       "   ImageId  Label\n",
       "0        1      2\n",
       "1        2      0\n",
       "2        3      9\n",
       "3        4      9\n",
       "4        5      3"
      ]
     },
     "execution_count": 29,
     "metadata": {},
     "output_type": "execute_result"
    }
   ],
   "source": [
    "sub['Label'] = preds\n",
    "sub.rename({0:'ImageId'}, axis=1, inplace=True)\n",
    "sub.head()"
   ]
  },
  {
   "cell_type": "code",
   "execution_count": 30,
   "metadata": {},
   "outputs": [],
   "source": [
    "sub.to_csv('sub.csv', index=False)"
   ]
  },
  {
   "cell_type": "markdown",
   "metadata": {},
   "source": [
    "### Saving the model"
   ]
  },
  {
   "cell_type": "code",
   "execution_count": 32,
   "metadata": {},
   "outputs": [],
   "source": [
    "filename = 'SVM_98%_Kaggle.sav'\n",
    "pickle.dump(best_svm, open(filename, 'wb'))"
   ]
  },
  {
   "cell_type": "markdown",
   "metadata": {},
   "source": [
    "## Random Forest Classifier "
   ]
  },
  {
   "cell_type": "code",
   "execution_count": 33,
   "metadata": {},
   "outputs": [],
   "source": [
    "rfc = RandomForestClassifier(n_estimators=300, max_depth=10, min_samples_split=20, min_samples_leaf=4,random_state=3)"
   ]
  },
  {
   "cell_type": "code",
   "execution_count": 35,
   "metadata": {},
   "outputs": [
    {
     "name": "stderr",
     "output_type": "stream",
     "text": [
      "[Parallel(n_jobs=-1)]: Using backend LokyBackend with 8 concurrent workers.\n",
      "[Parallel(n_jobs=-1)]: Done   3 out of  10 | elapsed:  2.5min remaining:  5.8min\n",
      "[Parallel(n_jobs=-1)]: Done   7 out of  10 | elapsed:  2.5min remaining:  1.1min\n",
      "[Parallel(n_jobs=-1)]: Done  10 out of  10 | elapsed:  4.1min finished\n"
     ]
    },
    {
     "data": {
      "text/plain": [
       "(array([0.91455026, 0.91031746, 0.90291005, 0.90238095, 0.90714286,\n",
       "        0.91190476, 0.90714286, 0.90582011, 0.90608466, 0.90502646]),\n",
       " 0.9073280423280424)"
      ]
     },
     "execution_count": 35,
     "metadata": {},
     "output_type": "execute_result"
    }
   ],
   "source": [
    "cross_validation(rfc, X_train, y_train, 'accuracy', 10)"
   ]
  },
  {
   "cell_type": "code",
   "execution_count": 36,
   "metadata": {},
   "outputs": [],
   "source": [
    "rfc_params_grid = [\n",
    "    {\n",
    "     'n_estimators': [300,350,450,600],\n",
    "     'min_samples_split': [2, 14, 20, 56],\n",
    "     'min_samples_leaf' : [4, 16, 25, 30],\n",
    "     'max_depth': [None, 4, 10, 13, 20]\n",
    "    }\n",
    "]"
   ]
  },
  {
   "cell_type": "code",
   "execution_count": null,
   "metadata": {},
   "outputs": [],
   "source": [
    "best_rfc, best_score = hyper_tuning(rfc, X_train, y_train, 'accuracy', rfc_params_grid, 3)"
   ]
  },
  {
   "cell_type": "code",
   "execution_count": null,
   "metadata": {},
   "outputs": [],
   "source": []
  }
 ],
 "metadata": {
  "kernelspec": {
   "display_name": "Python 3",
   "language": "python",
   "name": "python3"
  },
  "language_info": {
   "codemirror_mode": {
    "name": "ipython",
    "version": 3
   },
   "file_extension": ".py",
   "mimetype": "text/x-python",
   "name": "python",
   "nbconvert_exporter": "python",
   "pygments_lexer": "ipython3",
   "version": "3.7.6"
  }
 },
 "nbformat": 4,
 "nbformat_minor": 4
}
