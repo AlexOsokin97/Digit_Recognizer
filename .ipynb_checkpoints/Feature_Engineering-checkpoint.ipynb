{
 "cells": [
  {
   "cell_type": "code",
   "execution_count": 1,
   "metadata": {},
   "outputs": [],
   "source": [
    "import numpy as np\n",
    "import matplotlib as plt\n",
    "import pandas as pd"
   ]
  },
  {
   "cell_type": "code",
   "execution_count": 2,
   "metadata": {},
   "outputs": [],
   "source": [
    "train = pd.read_csv('train.csv')"
   ]
  },
  {
   "cell_type": "markdown",
   "metadata": {},
   "source": [
    "### Creating a new feature which will show the average pixel value for each digit label "
   ]
  },
  {
   "cell_type": "code",
   "execution_count": 8,
   "metadata": {},
   "outputs": [],
   "source": [
    "def average_pixel_value(data, digits=[]):\n",
    "    '''\n",
    "    A function that accepts a DataFrame and a list of digits and returns a dictionary of average pixel values for each digit in digits\n",
    "    \n",
    "    Input:\n",
    "            data: pandas DataFrame\n",
    "            digits (list): a list of digits in the dataset\n",
    "        \n",
    "    Output:\n",
    "            avg_pixel (dictionary): a dictionary of average pixel value for each digit\n",
    "    \n",
    "    '''\n",
    "    avg_pixel = {}\n",
    "    \n",
    "    for dig in digits:\n",
    "        \n",
    "        img = data.loc[data['label'] == digits[dig]].iloc[:, 1:].values.reshape(-1, 28, 28, 1)\n",
    "        avg = np.average(img[0][:,:,0])/255.0\n",
    "        avg_pixel[dig] = avg\n",
    "    \n",
    "    return avg_pixel"
   ]
  },
  {
   "cell_type": "code",
   "execution_count": 9,
   "metadata": {},
   "outputs": [
    {
     "data": {
      "text/html": [
       "<div>\n",
       "<style scoped>\n",
       "    .dataframe tbody tr th:only-of-type {\n",
       "        vertical-align: middle;\n",
       "    }\n",
       "\n",
       "    .dataframe tbody tr th {\n",
       "        vertical-align: top;\n",
       "    }\n",
       "\n",
       "    .dataframe thead th {\n",
       "        text-align: right;\n",
       "    }\n",
       "</style>\n",
       "<table border=\"1\" class=\"dataframe\">\n",
       "  <thead>\n",
       "    <tr style=\"text-align: right;\">\n",
       "      <th></th>\n",
       "      <th>average_pixel_value</th>\n",
       "    </tr>\n",
       "  </thead>\n",
       "  <tbody>\n",
       "    <tr>\n",
       "      <th>0</th>\n",
       "      <td>0.223134</td>\n",
       "    </tr>\n",
       "    <tr>\n",
       "      <th>1</th>\n",
       "      <td>0.083278</td>\n",
       "    </tr>\n",
       "    <tr>\n",
       "      <th>2</th>\n",
       "      <td>0.206578</td>\n",
       "    </tr>\n",
       "    <tr>\n",
       "      <th>3</th>\n",
       "      <td>0.121489</td>\n",
       "    </tr>\n",
       "    <tr>\n",
       "      <th>4</th>\n",
       "      <td>0.075155</td>\n",
       "    </tr>\n",
       "    <tr>\n",
       "      <th>5</th>\n",
       "      <td>0.139656</td>\n",
       "    </tr>\n",
       "    <tr>\n",
       "      <th>6</th>\n",
       "      <td>0.134109</td>\n",
       "    </tr>\n",
       "    <tr>\n",
       "      <th>7</th>\n",
       "      <td>0.085794</td>\n",
       "    </tr>\n",
       "    <tr>\n",
       "      <th>8</th>\n",
       "      <td>0.213080</td>\n",
       "    </tr>\n",
       "    <tr>\n",
       "      <th>9</th>\n",
       "      <td>0.130147</td>\n",
       "    </tr>\n",
       "  </tbody>\n",
       "</table>\n",
       "</div>"
      ],
      "text/plain": [
       "   average_pixel_value\n",
       "0             0.223134\n",
       "1             0.083278\n",
       "2             0.206578\n",
       "3             0.121489\n",
       "4             0.075155\n",
       "5             0.139656\n",
       "6             0.134109\n",
       "7             0.085794\n",
       "8             0.213080\n",
       "9             0.130147"
      ]
     },
     "execution_count": 9,
     "metadata": {},
     "output_type": "execute_result"
    }
   ],
   "source": [
    "dic_avgPixelVal = average_pixel_value(train, [x for x in range(0,10,1)])\n",
    "dic_avgPixelVal = pd.Series(dic_avgPixelVal).to_frame('average_pixel_value')\n",
    "dic_avgPixelVal"
   ]
  },
  {
   "cell_type": "markdown",
   "metadata": {},
   "source": [
    "### Creating a new feature which will show the average pixels used in order to draw each digit label"
   ]
  },
  {
   "cell_type": "code",
   "execution_count": 6,
   "metadata": {},
   "outputs": [],
   "source": [
    "def avg_pixel_used(data, digits=[]):\n",
    "    \n",
    "    '''\n",
    "    A function that accepts a DataFrame and a list of digits and returns a dictionary of average pixels used to draw each digit label\n",
    "    \n",
    "    Input:\n",
    "            data: pandas DataFrame\n",
    "            digits (list): a list of digits in the dataset\n",
    "        \n",
    "    Output:\n",
    "            pixel_used (dictionary): a dictionary of average pixels used to draw each image\n",
    "    '''\n",
    "    \n",
    "    pixel_used = {}\n",
    "    \n",
    "    for dig in digits:\n",
    "        \n",
    "        val = data.loc[data['label']==digits[dig]].iloc[[0], 1:]\n",
    "        counter = 0\n",
    "        \n",
    "        for col in val.columns:\n",
    "            \n",
    "            if val[col].unique() > 0:\n",
    "                \n",
    "                counter += 1\n",
    "                \n",
    "            else: \n",
    "                continue\n",
    "        \n",
    "        pixel_used[dig] = counter/784\n",
    "\n",
    "    return pixel_used"
   ]
  },
  {
   "cell_type": "code",
   "execution_count": 7,
   "metadata": {},
   "outputs": [
    {
     "data": {
      "text/html": [
       "<div>\n",
       "<style scoped>\n",
       "    .dataframe tbody tr th:only-of-type {\n",
       "        vertical-align: middle;\n",
       "    }\n",
       "\n",
       "    .dataframe tbody tr th {\n",
       "        vertical-align: top;\n",
       "    }\n",
       "\n",
       "    .dataframe thead th {\n",
       "        text-align: right;\n",
       "    }\n",
       "</style>\n",
       "<table border=\"1\" class=\"dataframe\">\n",
       "  <thead>\n",
       "    <tr style=\"text-align: right;\">\n",
       "      <th></th>\n",
       "      <th>average_pixels_used</th>\n",
       "    </tr>\n",
       "  </thead>\n",
       "  <tbody>\n",
       "    <tr>\n",
       "      <th>0</th>\n",
       "      <td>0.312500</td>\n",
       "    </tr>\n",
       "    <tr>\n",
       "      <th>1</th>\n",
       "      <td>0.123724</td>\n",
       "    </tr>\n",
       "    <tr>\n",
       "      <th>2</th>\n",
       "      <td>0.269133</td>\n",
       "    </tr>\n",
       "    <tr>\n",
       "      <th>3</th>\n",
       "      <td>0.227041</td>\n",
       "    </tr>\n",
       "    <tr>\n",
       "      <th>4</th>\n",
       "      <td>0.144133</td>\n",
       "    </tr>\n",
       "    <tr>\n",
       "      <th>5</th>\n",
       "      <td>0.209184</td>\n",
       "    </tr>\n",
       "    <tr>\n",
       "      <th>6</th>\n",
       "      <td>0.232143</td>\n",
       "    </tr>\n",
       "    <tr>\n",
       "      <th>7</th>\n",
       "      <td>0.145408</td>\n",
       "    </tr>\n",
       "    <tr>\n",
       "      <th>8</th>\n",
       "      <td>0.294643</td>\n",
       "    </tr>\n",
       "    <tr>\n",
       "      <th>9</th>\n",
       "      <td>0.198980</td>\n",
       "    </tr>\n",
       "  </tbody>\n",
       "</table>\n",
       "</div>"
      ],
      "text/plain": [
       "   average_pixels_used\n",
       "0             0.312500\n",
       "1             0.123724\n",
       "2             0.269133\n",
       "3             0.227041\n",
       "4             0.144133\n",
       "5             0.209184\n",
       "6             0.232143\n",
       "7             0.145408\n",
       "8             0.294643\n",
       "9             0.198980"
      ]
     },
     "execution_count": 7,
     "metadata": {},
     "output_type": "execute_result"
    }
   ],
   "source": [
    "dic_avgPixelUsed = avg_pixel_used(train, [x for x in range(10)])\n",
    "dic_avgPixelUsed = pd.Series(dic_avgPixelUsed).to_frame('average_pixels_used')\n",
    "dic_avgPixelUsed"
   ]
  },
  {
   "cell_type": "code",
   "execution_count": null,
   "metadata": {},
   "outputs": [],
   "source": [
    "'''\n",
    "1.create 2 new columns: avgPxlVal, avgPxlUsed and fill them with nan\n",
    "2.Add functions: def fill_avgPixelVal(data, digits=[]):, def fill_avgPixelUsed(data, digits=[]):\n",
    "3. heatmap?\n",
    "'''"
   ]
  },
  {
   "cell_type": "code",
   "execution_count": null,
   "metadata": {},
   "outputs": [],
   "source": []
  },
  {
   "cell_type": "code",
   "execution_count": null,
   "metadata": {},
   "outputs": [],
   "source": []
  },
  {
   "cell_type": "code",
   "execution_count": 6,
   "metadata": {},
   "outputs": [],
   "source": [
    "'''\n",
    "Creating X and y variables of the training data set and another variable for the testing data set\n",
    "for future machine learning manipulations (scaling, dimension reduction, splitting to train & val sets)\n",
    "'''\n",
    "X_train = train.iloc[:, 1:].values\n",
    "y_train = train.iloc[:, [0]].values"
   ]
  },
  {
   "cell_type": "code",
   "execution_count": 7,
   "metadata": {},
   "outputs": [
    {
     "name": "stdout",
     "output_type": "stream",
     "text": [
      "(42000, 784) 0\n",
      "(42000, 1) [1]\n",
      "(28000, 784)\n"
     ]
    }
   ],
   "source": [
    "'''\n",
    "checking X and y shapes and values of their first feature\n",
    "'''\n",
    "print(X_train.shape, X_train[0][0])\n",
    "print(y_train.shape, y_train[0])"
   ]
  },
  {
   "cell_type": "code",
   "execution_count": 8,
   "metadata": {},
   "outputs": [],
   "source": [
    "# feature scaling\n",
    "X_train[:, :-2] = X_train/255.0"
   ]
  },
  {
   "cell_type": "code",
   "execution_count": 9,
   "metadata": {},
   "outputs": [],
   "source": [
    "from sklearn.model_selection import train_test_split, cross_val_score, GridSearchCV\n",
    "from sklearn.decomposition import PCA\n",
    "from sklearn.discriminant_analysis import LinearDiscriminantAnalysis\n",
    "from sklearn.metrics import confusion_matrix, accuracy_score, precision_score"
   ]
  },
  {
   "cell_type": "markdown",
   "metadata": {},
   "source": [
    "create a new variable which would describe each digit\n",
    "1. split to training and validation sets (10% validation)\n",
    "2. scale train and val sets\n",
    "3. pca and lda\n"
   ]
  }
 ],
 "metadata": {
  "kernelspec": {
   "display_name": "Python 3",
   "language": "python",
   "name": "python3"
  },
  "language_info": {
   "codemirror_mode": {
    "name": "ipython",
    "version": 3
   },
   "file_extension": ".py",
   "mimetype": "text/x-python",
   "name": "python",
   "nbconvert_exporter": "python",
   "pygments_lexer": "ipython3",
   "version": "3.7.6"
  }
 },
 "nbformat": 4,
 "nbformat_minor": 4
}
